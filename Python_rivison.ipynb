{
  "nbformat": 4,
  "nbformat_minor": 0,
  "metadata": {
    "colab": {
      "provenance": [],
      "authorship_tag": "ABX9TyPzjQV7J6cy/oKjntiVgte/",
      "include_colab_link": true
    },
    "kernelspec": {
      "name": "python3",
      "display_name": "Python 3"
    },
    "language_info": {
      "name": "python"
    }
  },
  "cells": [
    {
      "cell_type": "markdown",
      "metadata": {
        "id": "view-in-github",
        "colab_type": "text"
      },
      "source": [
        "<a href=\"https://colab.research.google.com/github/poonamkhot123/Python-Practice/blob/main/Python_rivison.ipynb\" target=\"_parent\"><img src=\"https://colab.research.google.com/assets/colab-badge.svg\" alt=\"Open In Colab\"/></a>"
      ]
    },
    {
      "cell_type": "code",
      "execution_count": null,
      "metadata": {
        "id": "ctWHJb-TzcxT"
      },
      "outputs": [],
      "source": [
        "# This practice is by using youtube chanel \" Python Tutorial for beginners iin hindi\"\n",
        "# Total 9:11hrs vidieo\n",
        "# starts from 1:45 hrs\n"
      ]
    },
    {
      "cell_type": "markdown",
      "source": [
        "# Casting in python\n"
      ],
      "metadata": {
        "id": "6LaYQ21B0SRu"
      }
    },
    {
      "cell_type": "code",
      "source": [
        "a = 1\n",
        "print(type(a))\n",
        "b = '1'\n",
        "print(type(b))\n",
        "\n",
        "c = int(b)\n",
        "print(type(c))\n",
        "print(a+c)"
      ],
      "metadata": {
        "colab": {
          "base_uri": "https://localhost:8080/"
        },
        "id": "A8ChHczD0Up6",
        "outputId": "4fcc2f86-58b7-4eb6-f879-7ada1ecef3f4"
      },
      "execution_count": null,
      "outputs": [
        {
          "output_type": "stream",
          "name": "stdout",
          "text": [
            "<class 'int'>\n",
            "<class 'str'>\n",
            "<class 'int'>\n",
            "2\n"
          ]
        }
      ]
    },
    {
      "cell_type": "markdown",
      "source": [
        " **IMPLICIT TYPE CASTING**\n",
        "also known as coercion ,is performed automatically by the Python interpreter.This usually occurs when performing operations between different data types,and python implicitly converts one data to another to avoid data loss or errors.\n",
        "\n"
      ],
      "metadata": {
        "id": "GFkQNGOB9BxT"
      }
    },
    {
      "cell_type": "code",
      "source": [
        "# implicit type casting from integer to float\n",
        "num1=10\n",
        "num2=5.5\n",
        "result=num1+num2\n",
        "print(result)\n",
        "print(type(result))\n",
        "# one num is int another is float finally it convert into float it is implicit type casting."
      ],
      "metadata": {
        "colab": {
          "base_uri": "https://localhost:8080/"
        },
        "id": "F75ySYfV9Yey",
        "outputId": "333201cb-036c-4a8a-f362-3376d2d9fd9b"
      },
      "execution_count": null,
      "outputs": [
        {
          "output_type": "stream",
          "name": "stdout",
          "text": [
            "15.5\n",
            "<class 'float'>\n"
          ]
        }
      ]
    },
    {
      "cell_type": "markdown",
      "source": [
        "**Explicit type casting** Also known as type conversion , is performed manually by the programmer using built-in functions.\n",
        "this is done to ensure the desired type conversion and to avoid unexpected behavior."
      ],
      "metadata": {
        "id": "qIcAkCQX-Ebo"
      }
    },
    {
      "cell_type": "code",
      "source": [
        "# Coverting String to Integer\n",
        "str_num = \"26\"\n",
        "int_num =int(str_num)\n",
        "print(int_num)\n",
        "print(type(int_num))\n",
        "\n",
        "# Converting a value to boolean\n",
        "print(bool(0))\n",
        "print(bool(1))"
      ],
      "metadata": {
        "colab": {
          "base_uri": "https://localhost:8080/"
        },
        "id": "10CU13HV-caT",
        "outputId": "de34444d-0fcd-4c53-ffd1-b59560f821e9"
      },
      "execution_count": null,
      "outputs": [
        {
          "output_type": "stream",
          "name": "stdout",
          "text": [
            "26\n",
            "<class 'int'>\n",
            "False\n",
            "True\n"
          ]
        }
      ]
    },
    {
      "cell_type": "markdown",
      "source": [
        "# **Input Function**\n",
        "\n",
        "\n",
        "The input function is an essential feature in python that allows to take input from the user."
      ],
      "metadata": {
        "id": "aP4qwNrg_UDD"
      }
    },
    {
      "cell_type": "code",
      "source": [
        "name = input(\"Enter your name:\")\n",
        "print(f\"welcome {name} to the python tutorial series\")"
      ],
      "metadata": {
        "colab": {
          "base_uri": "https://localhost:8080/"
        },
        "id": "TNNzHAoX_oW7",
        "outputId": "9bb802c8-6729-4e8a-8aff-d725d0f9b2f3"
      },
      "execution_count": null,
      "outputs": [
        {
          "output_type": "stream",
          "name": "stdout",
          "text": [
            "Enter your name:poonam\n",
            "welcome poonam to the python tutorial series\n"
          ]
        }
      ]
    },
    {
      "cell_type": "code",
      "source": [],
      "metadata": {
        "id": "FUJDFQhwDJyq"
      },
      "execution_count": null,
      "outputs": []
    },
    {
      "cell_type": "code",
      "source": [
        "# input from user to add two number and print result.\n",
        "x = input(\"Enter first number:\")\n",
        "y = input(\"Enter second number:\")\n",
        "print(f\"Sum of{x} & {y}is {int(x)+int(y)}\")"
      ],
      "metadata": {
        "colab": {
          "base_uri": "https://localhost:8080/"
        },
        "id": "1kz_S9hXCwob",
        "outputId": "58780967-b804-44c5-b37c-91d8641da1fb"
      },
      "execution_count": null,
      "outputs": [
        {
          "output_type": "stream",
          "name": "stdout",
          "text": [
            "Enter first number:12\n",
            "Enter second number:12\n",
            "Sum of12 & 12is24\n"
          ]
        }
      ]
    },
    {
      "cell_type": "code",
      "source": [
        "# HW:write a program to input student name and marks of 3 subjects.\n",
        "# print name & percentage in output.\n",
        "\n",
        "name = input(\"Enter a name:\")\n",
        "marks1 = input(\"enter marks of first subject:\")\n",
        "marks2 = input(\"enter marks of second subject:\")\n",
        "marks3 = input(\"enter marks of third subject\")\n",
        "percentage = ((int(marks1)+int(marks2)+int(marks3))/300)*100\n",
        "print(f\"the result of {name} is {int(percentage)}%.well done.\")"
      ],
      "metadata": {
        "colab": {
          "base_uri": "https://localhost:8080/"
        },
        "id": "rnAZuVgdDsJW",
        "outputId": "8c911569-f83d-48bc-b400-ae1c01315fd3"
      },
      "execution_count": null,
      "outputs": [
        {
          "output_type": "stream",
          "name": "stdout",
          "text": [
            "Enter a name:poonam\n",
            "enter marks of first subject:56\n",
            "enter marks of second subject:67\n",
            "enter marks of third subject89\n",
            "the result of poonam is 70%.well done.\n"
          ]
        }
      ]
    },
    {
      "cell_type": "code",
      "source": [
        "# write a python program thats collects multiple types of\n",
        "# data(e.g.,name,age,height  and student status)\n",
        "# from user input,stores them in a dictonary,and then prints out the collected data?\n",
        "\n",
        "# intializing dictionary\n",
        "user_name ={}\n",
        "user_name['name'] = input(\"Enter your name:\")\n",
        "user_name['age'] = int(input(\"Enter your age:\"))\n",
        "user_name['height'] = float(input(\"Enter your height:\"))\n",
        "user_name['student'] = input(\"are you a student:\")\n",
        "print(user_name) #completed till 2:41hrs\n"
      ],
      "metadata": {
        "id": "boHdJomiHx_I"
      },
      "execution_count": null,
      "outputs": []
    },
    {
      "cell_type": "markdown",
      "source": [
        "started from = 2:41hrs\n",
        "date = 16 july 2025\n"
      ],
      "metadata": {
        "id": "4QH4FubcpT92"
      }
    },
    {
      "cell_type": "code",
      "source": [
        "# operators in python are special symbols or keywords\n",
        "# operators : these are thespecials symbols\n",
        "# operand: it is the value on which the operator is applied.\n",
        "# addition operator  +\n",
        "# Equal operator ==\n",
        "# and operator  and\n",
        "# assign operator ="
      ],
      "metadata": {
        "id": "1hqwPonMK7i_"
      },
      "execution_count": null,
      "outputs": []
    },
    {
      "cell_type": "markdown",
      "source": [
        "# **Types of operator**\n",
        "\n",
        "* 1.Arthmetic operators\n",
        "* 2.Comparison (relational) operators\n",
        "* 3.assignment operator\n",
        "* 4.logical operators\n",
        "* 5.bitwise operators\n",
        "* 6.identity operators\n",
        "* 7.membership operators\n",
        "\n"
      ],
      "metadata": {
        "id": "zDp6f7X9wnnV"
      }
    },
    {
      "cell_type": "markdown",
      "source": [
        "# *Arithmetic operators*\n",
        "* (+)addition               a+b        #o/p:8\n",
        "* (-) substraction          a-b        #o/p:2\n",
        "* (*) multiplication        a*b        # o/p:15\n",
        "* (/)Division               a/b        #o/p:1.6666\n",
        "* (% )modulus(returns remainder) a%b    #o/p:2\n",
        "* (//) floor division       a//b       #o/p:1\n",
        "* (**) Exponentiation                  #o/p:125\n",
        "\n",
        "* **Precedence of Arithmetic operators in python:**\n",
        "p-parenthesis,E-exponential,M-multiplication,D-division,A-addition,S-substraction"
      ],
      "metadata": {
        "id": "pDNCY8eFx3zM"
      }
    },
    {
      "cell_type": "markdown",
      "source": [
        "## *Comparison (Realtional) Operators*\n",
        "* comparison operators are used to compare two values and return a boolean result(True or False)\n",
        "\n",
        "* (==) equal\n",
        "* (!=) not equal\n",
        "* (>) greater than\n",
        "* (<) less than\n",
        "* (>=) greater than or equal to\n",
        "* (<=) less than or equal to\n",
        "\n",
        "\n"
      ],
      "metadata": {
        "id": "NHWgGu4r0vhc"
      }
    },
    {
      "cell_type": "markdown",
      "source": [
        "# *Logical operators*\n",
        " * **and** returns true if both statements are true\n",
        "* **or** returns true if one of the statement is true\n",
        "* **not** reverse the result,returns false if the result is true  "
      ],
      "metadata": {
        "id": "0GqDgVo-1pLx"
      }
    },
    {
      "cell_type": "markdown",
      "source": [
        "# *Identity & Membership Operators*\n",
        "identity operators are used to compare the memory locations of two objects,\n",
        "not just equal but if they are the same objects.\n",
        "Membership operators checks whether a given value is a member of a sequence\n",
        "(such as strings,lists, and tuples) or not\n",
        "\n",
        "\n",
        "*   **identity**.........    is......            (a is b)\n",
        "*   **identity**.........    is not.....        (a is not b)\n",
        "* **Membership**.........    in......            (a in b)\n",
        "* **Membership**.........    not in....        (a not in b)..........  till 3:14hrs\n"
      ],
      "metadata": {
        "id": "sJS-FZfi3boq"
      }
    },
    {
      "cell_type": "code",
      "source": [
        "# started date = 17/07/2025\n",
        "# time = 3:15 hrs"
      ],
      "metadata": {
        "id": "jue7b_Jf5MD6"
      },
      "execution_count": null,
      "outputs": []
    },
    {
      "cell_type": "markdown",
      "source": [
        "# **CONDITIONAL STATEMENTS**\n",
        "*conditional statements allows you to execute code based on condition evaluates to true or False.\n",
        "\n",
        "Types of conditonal statements\n",
        "* 1.'if' statement\n",
        "* 2.'if-else' statement\n",
        "* 3.'if-elif-else' statement\n",
        "* 4.Nested 'if else' statement\n",
        "* 5.Conditional Expressions (Ternary Operators)\n"
      ],
      "metadata": {
        "id": "gM1QpdHAMh1F"
      }
    },
    {
      "cell_type": "code",
      "source": [
        "# if conditional statement = execute a block of code only if the condition is true.\n",
        "age = 26\n",
        "if age > 19:\n",
        "  print(\"you are an adult\")\n"
      ],
      "metadata": {
        "colab": {
          "base_uri": "https://localhost:8080/"
        },
        "id": "h8heFC5qOFHF",
        "outputId": "3ea216b6-72f0-44ea-b97a-5fd8d7c8996f"
      },
      "execution_count": null,
      "outputs": [
        {
          "output_type": "stream",
          "name": "stdout",
          "text": [
            "you are an adult\n"
          ]
        }
      ]
    },
    {
      "cell_type": "code",
      "source": [
        "a = 260 # if statement excecute only if condition is true\n",
        "b = 222\n",
        "if b > a:\n",
        "  print(\"b is greater than a\")"
      ],
      "metadata": {
        "id": "jSZ1_vXiNIXx"
      },
      "execution_count": null,
      "outputs": []
    },
    {
      "cell_type": "markdown",
      "source": [
        "#  'if-else' Conditional Statement\n",
        "* the if-else statement provides as alternative block of code to execute if the condition is false.\n",
        "\n",
        "Syntax:\n",
        "\n",
        "* if condition:\n",
        "* .......code to execute if the condition is true.\n",
        "* else:\n",
        "* .......code to execute if the condition is false        "
      ],
      "metadata": {
        "id": "xu0Ta5dE-Jb-"
      }
    },
    {
      "cell_type": "code",
      "source": [
        "temperature = 30\n",
        "if temperature > 25:\n",
        "  print(\"it's a hot day.\")\n",
        "else:\n",
        "  print(\"it's a cool day.\")"
      ],
      "metadata": {
        "colab": {
          "base_uri": "https://localhost:8080/"
        },
        "id": "GPMkdYtm-1e4",
        "outputId": "b93f27bf-fd40-4885-9a39-1b5def263953"
      },
      "execution_count": null,
      "outputs": [
        {
          "output_type": "stream",
          "name": "stdout",
          "text": [
            "it's a hot day.\n"
          ]
        }
      ]
    },
    {
      "cell_type": "markdown",
      "source": [
        "# 'if-elif-else' Conditional Statement\n",
        "* the if-elifielse statement allows to check multiple conditions and execute different blocks of code based on which condition is True.\n",
        "\n",
        "# Syntax\n",
        "* if condition1:\n",
        "* .......code to execute if condition1 is true\n",
        "* elif condition2:\n",
        "* .......code to execute if condition2 is true\n",
        "* else:\n",
        "* ......code to execute if none of the above conditions are true"
      ],
      "metadata": {
        "id": "6AHjYX8yAQrx"
      }
    },
    {
      "cell_type": "code",
      "source": [
        "# Grading system: let's write a code to classify the student's grade\n",
        "# based on their totalmarks(out of hundred)\n",
        "score = 85\n",
        "if score >= 90:\n",
        "  print(\"Grade - A\")\n",
        "elif score >=80:\n",
        "    print(\"grade - B\")\n",
        "elif score >= 70:\n",
        "  print(\"grade - C\")\n",
        "else:\n",
        "  print(\"grade - D\")"
      ],
      "metadata": {
        "colab": {
          "base_uri": "https://localhost:8080/"
        },
        "id": "1ZENoauqA8aq",
        "outputId": "2fe1ced5-0350-4470-a3a0-bd92f74b7a8b"
      },
      "execution_count": null,
      "outputs": [
        {
          "output_type": "stream",
          "name": "stdout",
          "text": [
            "grade - B\n"
          ]
        }
      ]
    },
    {
      "cell_type": "markdown",
      "source": [
        "# Nested ' if-else'conditional Statement\n",
        "* a nested if-else statement in python invloves placing an if-else statement inside another if else statement.this allows for more complex decision-making by checking **multiples conditions that depend on each other.**\n",
        "\n",
        "# Syntax\n",
        "* if condition1:\n",
        "..... code block for condition1 being true\n",
        "*......if condition2:\n",
        "\n",
        "* .......else:\n",
        "* else:\n",
        "\n"
      ],
      "metadata": {
        "id": "p3aD3CqpCZ8i"
      }
    },
    {
      "cell_type": "code",
      "source": [
        "# number classification :let's say you want to classify as positive,\n",
        "# negative or zero and further classify positive numbers as even or odd.\n",
        "num = int(input(\"Enter a number:\"))\n",
        "if num > 0:   # first check if the number is positive\n",
        "   if num % 2 ==0:\n",
        "    print(\"the number is positive and even.\")\n",
        "   else:\n",
        "    print(\"the number is positive and odd.\")\n",
        "else:\n",
        "  if num == 0:\n",
        "    print(\"the number is zero.\")\n",
        "  else:\n",
        "    print(\"the number is negative.\")\n",
        "\n"
      ],
      "metadata": {
        "colab": {
          "base_uri": "https://localhost:8080/"
        },
        "id": "ppX1_lpUC7tQ",
        "outputId": "1336ae35-68a2-4578-de8e-feb1c5ac9d94"
      },
      "execution_count": null,
      "outputs": [
        {
          "output_type": "stream",
          "name": "stdout",
          "text": [
            "Enter a number:45\n",
            "the number is positive and odd.\n"
          ]
        }
      ]
    },
    {
      "cell_type": "code",
      "source": [
        "year = int(input(\"Enter a year:\"))\n",
        "if (year % 4 == 0 and year % 100 != 0):\n",
        "   print(f\"{year} is leap year\")\n",
        "else:\n",
        "    print(f\"{year} is not a leap year\")"
      ],
      "metadata": {
        "colab": {
          "base_uri": "https://localhost:8080/"
        },
        "id": "yn0G2VsLEnMe",
        "outputId": "6bf5d1cd-4345-4b7a-fbd6-a5c58511cfe3"
      },
      "execution_count": null,
      "outputs": [
        {
          "output_type": "stream",
          "name": "stdout",
          "text": [
            "Enter a year:2024\n",
            "2024 is leap year\n"
          ]
        }
      ]
    },
    {
      "cell_type": "markdown",
      "source": [
        "# **Functions**\n",
        "A function is a block of code that performs a specific task. you can use it whenever you want by calling its name,which saves you from writing the same code multiples times.\n",
        "\n",
        "# Basic concepts\n",
        "* Create function: Use the def keyword to define a function.\n",
        "* call function : use the function's name folowed by () to run it.\n",
        "* Parameter : The variable listed inside parentheses in function defination.\n",
        "* Argument : The actual value you pass to function when you call it.\n",
        "\n",
        "# Types of Functions\n",
        "**1. Built - in library function:**\n",
        "* These are Standard functions in python that are available to use.\n",
        "* Examples: print(),input(),type(),sum(),max()\n",
        "\n",
        "**2. User-defined function:**\n",
        "* we can create our own functions based on requirement.\n",
        "* Examples: Create your own Function\n",
        "\n",
        "\n",
        "\n",
        "\n"
      ],
      "metadata": {
        "id": "dr7XsM6ELP0A"
      }
    },
    {
      "cell_type": "code",
      "source": [
        "# function without parameters\n",
        "def greetings():\n",
        "  print(\"welcome to python tutorial by Rishabh\")\n",
        "# use or call this function\n",
        "greetings()"
      ],
      "metadata": {
        "colab": {
          "base_uri": "https://localhost:8080/"
        },
        "id": "e4jYsW2hOmuV",
        "outputId": "9d1cdf1c-97a1-4800-a235-e970742d7a39"
      },
      "execution_count": null,
      "outputs": [
        {
          "output_type": "stream",
          "name": "stdout",
          "text": [
            "welcome to python tutorial by Rishabh\n"
          ]
        }
      ]
    },
    {
      "cell_type": "code",
      "source": [
        "# function to adds two numbers and print result.\n",
        "def add2numbers(a,b):\n",
        "  result = a+b\n",
        "  print(\"The sum is:\",result)\n",
        "  # calling this function with arguments\n",
        "add2numbers(5,4)\n",
        "add2numbers(a=10,b=100)\n",
        "add2numbers(b=20,a=30)"
      ],
      "metadata": {
        "colab": {
          "base_uri": "https://localhost:8080/"
        },
        "id": "biFN5ar-Mu38",
        "outputId": "ab4464f0-9a5f-4ff5-dd20-c2465fc6c839"
      },
      "execution_count": null,
      "outputs": [
        {
          "output_type": "stream",
          "name": "stdout",
          "text": [
            "The sum is: 9\n",
            "The sum is: 110\n",
            "The sum is: 50\n"
          ]
        }
      ]
    },
    {
      "cell_type": "markdown",
      "source": [
        "# The Return Statement\n",
        "* The return statement is used in a function to send a result back to the place where the function was called. When return is executed, the function stops running and immediately returns the specified value."
      ],
      "metadata": {
        "id": "L9-YKyUNTovL"
      }
    },
    {
      "cell_type": "code",
      "source": [
        "def add(a,b):\n",
        "  return a + b\n",
        "result = add(3,5)\n",
        "print(result)"
      ],
      "metadata": {
        "colab": {
          "base_uri": "https://localhost:8080/"
        },
        "id": "NFceA6XsUBJH",
        "outputId": "5cc0fba9-bd1d-48ef-882f-2e4b5e2cfe61"
      },
      "execution_count": null,
      "outputs": [
        {
          "output_type": "stream",
          "name": "stdout",
          "text": [
            "8\n"
          ]
        }
      ]
    },
    {
      "cell_type": "code",
      "source": [
        "# function to convert celsius to Faherheit - return statement used.\n",
        "def celsius_to_fahrenheit(celsius):\n",
        "  fahrenheit = (celsius * 9/5)+ 32\n",
        "  return fahrenheit\n",
        "\n",
        "#call function\n",
        "temp_f = celsius_to_fahrenheit(25)\n",
        "print(temp_f)"
      ],
      "metadata": {
        "colab": {
          "base_uri": "https://localhost:8080/"
        },
        "id": "k0ymA3WAUen8",
        "outputId": "d68a2d0d-33ef-4fb4-b2aa-419b1126701f"
      },
      "execution_count": null,
      "outputs": [
        {
          "output_type": "stream",
          "name": "stdout",
          "text": [
            "77.0\n"
          ]
        }
      ]
    },
    {
      "cell_type": "markdown",
      "source": [
        "# The pass Statement\n",
        "* the pass statement is a placeholder in a function or loop.it does nothing and is used when you need to write code that will be added later or to define an empty function"
      ],
      "metadata": {
        "id": "3XbKHvAjZUgL"
      }
    },
    {
      "cell_type": "code",
      "source": [
        "def myfunction():\n",
        "  pass           # This does nothing for now."
      ],
      "metadata": {
        "id": "lWM6ZcRaZoUB"
      },
      "execution_count": null,
      "outputs": []
    },
    {
      "cell_type": "markdown",
      "source": [
        "# Arguments in functions\n",
        "\n",
        "Arguments are the values that are passed into a function when it's called.Afunction must be called with the right number of arguments. if a  function has 2 paeameters,you must provide 2 arguments when calling it.\n"
      ],
      "metadata": {
        "id": "Djy7MXPbfECe"
      }
    },
    {
      "cell_type": "code",
      "source": [
        "# Example: function defined using one parameter\n",
        "def greetings(name):    # name is a parameter\n",
        "  print(\"hello,\"+ name + \"!\")\n",
        "greetings(\"Madhav\")     # madhav as argument.\n"
      ],
      "metadata": {
        "colab": {
          "base_uri": "https://localhost:8080/"
        },
        "id": "eWaKyl3wfiuN",
        "outputId": "e64361c4-3e2f-46df-bb87-876687733ae8"
      },
      "execution_count": null,
      "outputs": [
        {
          "output_type": "stream",
          "name": "stdout",
          "text": [
            "hello,Madhav!\n"
          ]
        }
      ]
    },
    {
      "cell_type": "code",
      "source": [],
      "metadata": {
        "id": "0LNfSWOPo752"
      },
      "execution_count": null,
      "outputs": []
    },
    {
      "cell_type": "markdown",
      "source": [
        "**Types of function Arguments**\n",
        "\n",
        "python supports various types of arguments that can be passed at the time of the function call\n",
        "* Required arguments(single/multiple arguments)\n",
        "* Default arguemnts(name arguments)\n",
        "* Arbitrary arguments (variable-legth arguments *args and **kwargs)"
      ],
      "metadata": {
        "id": "9uSgLyz_gJ_L"
      }
    },
    {
      "cell_type": "code",
      "source": [
        "# done till 5:30 hrs"
      ],
      "metadata": {
        "id": "tPSneWjAgt6d"
      },
      "execution_count": null,
      "outputs": []
    },
    {
      "cell_type": "code",
      "source": [
        "# Required Arguments.\n",
        "def greetings(name):       # name is parameter\n",
        "  print(\"hello\",name,\"!\")\n",
        "greetings(\"madhav\")        # Madhav is argument"
      ],
      "metadata": {
        "colab": {
          "base_uri": "https://localhost:8080/"
        },
        "id": "rCO9a3uQf0Lj",
        "outputId": "3b3d6890-21a9-4cec-b382-421f715c1097"
      },
      "execution_count": null,
      "outputs": [
        {
          "output_type": "stream",
          "name": "stdout",
          "text": [
            "hello madhav !\n"
          ]
        }
      ]
    },
    {
      "cell_type": "code",
      "source": [
        "def intro(course_name,instructor_name):\n",
        "  print(\"welcome to\", course_name,\"course by\",instructor_name)\n",
        "intro(\"python\",\"poonam!\")"
      ],
      "metadata": {
        "colab": {
          "base_uri": "https://localhost:8080/"
        },
        "id": "e2N9-_gt_0iH",
        "outputId": "2c962e15-00da-442f-c9a6-ff65e68a133d"
      },
      "execution_count": null,
      "outputs": [
        {
          "output_type": "stream",
          "name": "stdout",
          "text": [
            "welcome to python course by poonam!\n"
          ]
        }
      ]
    },
    {
      "cell_type": "markdown",
      "source": [
        "# Default Argument :\n",
        "you can assign default values to arguments in a function defination.if a value isn't provided when the function is called , the default value is used."
      ],
      "metadata": {
        "id": "iF4LqphiAbG7"
      }
    },
    {
      "cell_type": "code",
      "source": [
        "# Example: function defined using one parameter and default value\n",
        "def greetings(name = \"world\"):    # default value\n",
        "  print(\"hello,\"+ name+\"!\")\n",
        "greetings()                       # No argument passed\n",
        "greetings(\"madhav\")               # madhav as argument"
      ],
      "metadata": {
        "colab": {
          "base_uri": "https://localhost:8080/"
        },
        "id": "v4kA079HA6VQ",
        "outputId": "d55a5bf9-4cfe-4610-c82b-8aeac343334c"
      },
      "execution_count": null,
      "outputs": [
        {
          "output_type": "stream",
          "name": "stdout",
          "text": [
            "hello,world!\n",
            "hello,madhav!\n"
          ]
        }
      ]
    },
    {
      "cell_type": "markdown",
      "source": [
        "# Keyword Argument\n",
        "when calling a function , you can specify arguments by the parameter name. These are called keyword arguments and can be given in *any order.*"
      ],
      "metadata": {
        "id": "mPONKLHzB9li"
      }
    },
    {
      "cell_type": "code",
      "source": [
        "# Example: function defined using two parameters\n",
        "def divide(a,b):    #a,b are 2 parameters\n",
        "    return a/b\n",
        "result = divide(b=10, a =20) # with keyword argument\n",
        "print(result)\n",
        "\n",
        "result = divide(10,20)       # Positional Argument\n",
        "print(result)"
      ],
      "metadata": {
        "colab": {
          "base_uri": "https://localhost:8080/"
        },
        "id": "Ri25s_zaCQRe",
        "outputId": "c85d8952-c7bf-4fb4-bd54-34d5aae5e738"
      },
      "execution_count": null,
      "outputs": [
        {
          "output_type": "stream",
          "name": "stdout",
          "text": [
            "2.0\n",
            "0.5\n"
          ]
        }
      ]
    },
    {
      "cell_type": "markdown",
      "source": [
        "# Arbitary Positional Arguments (*args)\n",
        "* if you're unsure how many arguments will be passed,use * args to accept any number of positional arguments.\n",
        "* PURPOSE:allows you to pass a variable number of positional arguments.\n",
        "* TYPE: the arguments are stored as a tuple.\n",
        "* USAGE: Use when you want to pass multiple values that are accessed by position."
      ],
      "metadata": {
        "id": "rrknXh-UDKoK"
      }
    },
    {
      "cell_type": "code",
      "source": [
        "def add_numbers(*args):\n",
        "  return sum(args)\n",
        "\n",
        "# any number of arguments\n",
        "result = add_numbers(1,2,3,4)\n",
        "print(result)"
      ],
      "metadata": {
        "colab": {
          "base_uri": "https://localhost:8080/"
        },
        "id": "_-pW12q5EzdA",
        "outputId": "459d0a9b-5329-4bdb-d660-695027c1a6d8"
      },
      "execution_count": null,
      "outputs": [
        {
          "output_type": "stream",
          "name": "stdout",
          "text": [
            "10\n"
          ]
        }
      ]
    },
    {
      "cell_type": "code",
      "source": [
        "def greetings2(*names):\n",
        "  for name in names:\n",
        "    print(f\"Hello,{name}!\")\n",
        "greetings2(\"Madhav\",\"rishabh\",\"visakha1\")"
      ],
      "metadata": {
        "colab": {
          "base_uri": "https://localhost:8080/"
        },
        "id": "XcH7t4OTGXsh",
        "outputId": "934ac449-783e-45ee-d934-12b9e0ccf94b"
      },
      "execution_count": null,
      "outputs": [
        {
          "output_type": "stream",
          "name": "stdout",
          "text": [
            "Hello,Madhav!\n",
            "Hello,rishabh!\n",
            "Hello,visakha!\n"
          ]
        }
      ]
    },
    {
      "cell_type": "markdown",
      "source": [
        "# Arbitary Keyword Arguments (**kwargs)\n",
        "* if you want to pass a variable number of keyword arguments, use ** kwargs.\n",
        "* purpose: Allows you to pass a variable number of keyword arguments(arguments with names.)\n",
        "* type:the arguments are stored as a dictionary.\n",
        "* usage: use when you want to pass multiple values that are accessed by name."
      ],
      "metadata": {
        "id": "D57sVg7uHlKZ"
      }
    },
    {
      "cell_type": "code",
      "source": [
        "def print_details(**kwargs):\n",
        "  for key,value in kwargs.items():\n",
        "    print(f\"{key}:{value}\")\n",
        "print_details(name = \"madhav\",age =26,city=\"pune\")"
      ],
      "metadata": {
        "colab": {
          "base_uri": "https://localhost:8080/"
        },
        "id": "ZPLxQH51I0A6",
        "outputId": "3f17752a-06ed-49b5-c552-d7f0c755b7bf"
      },
      "execution_count": null,
      "outputs": [
        {
          "output_type": "stream",
          "name": "stdout",
          "text": [
            "name:madhav\n",
            "age:26\n",
            "city:pune\n"
          ]
        }
      ]
    },
    {
      "cell_type": "markdown",
      "source": [
        "# Strings in Python\n",
        "* A string is a sequence of characters. in python, strings are enclosed within single(') or double(\") or triple(\"\"\") quotation marks.\n"
      ],
      "metadata": {
        "id": "t5yKUEojM2Qo"
      }
    },
    {
      "cell_type": "code",
      "source": [
        "print('hello word!')\n",
        "print(\"hello world!\")\n",
        "print('''\"hello\" world!''')\n"
      ],
      "metadata": {
        "colab": {
          "base_uri": "https://localhost:8080/"
        },
        "id": "QkjmWvu4NPiF",
        "outputId": "61ddc9f5-c247-4db7-9a5c-7a34e8658d0b"
      },
      "execution_count": null,
      "outputs": [
        {
          "output_type": "stream",
          "name": "stdout",
          "text": [
            "hello word!\n",
            "hello world!\n",
            "\"hello\" world!\n"
          ]
        }
      ]
    },
    {
      "cell_type": "code",
      "source": [
        "# date = 18/7/2025\n",
        "# time = 6:00hrs"
      ],
      "metadata": {
        "id": "ZaPn5O6Yu42m"
      },
      "execution_count": null,
      "outputs": []
    },
    {
      "cell_type": "markdown",
      "source": [
        "# Formatted String\n",
        "* A formatted string in python is a way to insert variables or expressions inside a string. It allows you to formate the output in a readable and controlled way.\n",
        "* There are multiple ways to format strings in python:\n",
        "1. old-style formatting(% operator)\n",
        "2. str.format() method\n",
        "3. F-strings (formatted string literals)"
      ],
      "metadata": {
        "id": "LT7EEBFDNpuf"
      }
    },
    {
      "cell_type": "markdown",
      "source": [
        "# old-style formatting(% operator)\n",
        "This approach uses the % operator and is similar to string formatting in language like c.\n",
        "* syntax : \"string % value\"\n",
        "\n"
      ],
      "metadata": {
        "id": "FbEuNvrUvGlP"
      }
    },
    {
      "cell_type": "code",
      "source": [
        " # Example:\n",
        "name = \"madhav\"\n",
        "age = 16\n",
        "print(\"my name is %s and i am %d\" %(name,age))\n",
        "# %s is for string\n",
        "# %d is for numbers"
      ],
      "metadata": {
        "colab": {
          "base_uri": "https://localhost:8080/"
        },
        "id": "47pY3b61vm0i",
        "outputId": "01323e50-6093-4446-a075-1e4eb8854b68"
      },
      "execution_count": null,
      "outputs": [
        {
          "output_type": "stream",
          "name": "stdout",
          "text": [
            "my name is madhav and i am 16\n"
          ]
        }
      ]
    },
    {
      "cell_type": "markdown",
      "source": [
        "# Formatted String - str.format()\n",
        "str.format() method\n",
        "* in python 3 ,the format() method is more powerful and flexible then the old-style % formatting.\n",
        "Syntax: \"string {}\".format(value)"
      ],
      "metadata": {
        "id": "pqLCi3uP0x3T"
      }
    },
    {
      "cell_type": "code",
      "source": [
        "#Example:\n",
        "name = \"madhav\"\n",
        "age = 16\n",
        "print(\"my name is {0} and I'm {1}.\".format(name,age))"
      ],
      "metadata": {
        "colab": {
          "base_uri": "https://localhost:8080/"
        },
        "id": "kwkebb6k1WiN",
        "outputId": "971720bd-5014-46df-adb2-6a455f46e60b"
      },
      "execution_count": null,
      "outputs": [
        {
          "output_type": "stream",
          "name": "stdout",
          "text": [
            "my name is madhav and I'm 16.\n"
          ]
        }
      ]
    },
    {
      "cell_type": "markdown",
      "source": [
        "# Formatted String - F-strings\n",
        "f- strings(formatted string literals)\n",
        "* in python 3.6 . F-strings are most concise and efficient way to format strings. you prefix the string with an f or F, and variables ore expressions are embedded directly within curly braces{}.\n",
        "\n",
        "* Syntax: f\"string {variable}\""
      ],
      "metadata": {
        "id": "QVxftTEA2JNo"
      }
    },
    {
      "cell_type": "code",
      "source": [
        "# Example:\n",
        "name = \"madhav\"\n",
        "age = 16\n",
        "print(f\"My name is {name} and I'm {age}\" )\n",
        "print(f\"my age after 5 years will be {age + 5}\")"
      ],
      "metadata": {
        "colab": {
          "base_uri": "https://localhost:8080/"
        },
        "id": "CWWoIGJH2uB9",
        "outputId": "c86644c7-254e-4dbf-a533-9248ce65423b"
      },
      "execution_count": null,
      "outputs": [
        {
          "output_type": "stream",
          "name": "stdout",
          "text": [
            "My name is madhav and I'm 16\n",
            "my age after 5 years will be 21\n"
          ]
        }
      ]
    },
    {
      "cell_type": "markdown",
      "source": [
        "# Escape Characters\n",
        "Escape characters in python are special characters used in strings to represent whitespace,symbols,or control characters that would otherwise be difficult to include.An escape character is a backslash\\ foollowed by the character you want to insert.\n",
        "\n"
      ],
      "metadata": {
        "id": "uipp0mmh3n23"
      }
    },
    {
      "cell_type": "code",
      "source": [
        "print(\"hello \\nWorld!\")  # \\n for new line\n",
        "print(\"hello\\tworld\")    # \\t for tab or space"
      ],
      "metadata": {
        "colab": {
          "base_uri": "https://localhost:8080/"
        },
        "id": "gqMd2VR86SWM",
        "outputId": "898a0d9b-d328-488b-c77b-6ea44af30274"
      },
      "execution_count": null,
      "outputs": [
        {
          "output_type": "stream",
          "name": "stdout",
          "text": [
            "hello \n",
            "World!\n",
            "hello\tworld\n"
          ]
        }
      ]
    },
    {
      "cell_type": "code",
      "source": [
        "# operations on string\n",
        "a = \"hello\"\n",
        "b = \"python\"\n",
        "print(a + b)   # concatenate\n",
        "print(a*2)     # multiple copies"
      ],
      "metadata": {
        "colab": {
          "base_uri": "https://localhost:8080/"
        },
        "id": "ujNqJE8x8DID",
        "outputId": "389dbc40-defd-4828-c971-d1b5853d492d"
      },
      "execution_count": null,
      "outputs": [
        {
          "output_type": "stream",
          "name": "stdout",
          "text": [
            "hellopython\n",
            "hellohello\n"
          ]
        }
      ]
    },
    {
      "cell_type": "code",
      "source": [
        "a = \"hello\"\n",
        "if \"H\" in a:\n",
        "  print(\"yes\")\n",
        "else:\n",
        "  print(\"noo\")\n"
      ],
      "metadata": {
        "colab": {
          "base_uri": "https://localhost:8080/"
        },
        "id": "2cN_kj0_8aZA",
        "outputId": "c51ed9b0-49cb-4bc4-dec9-77162dd97422"
      },
      "execution_count": null,
      "outputs": [
        {
          "output_type": "stream",
          "name": "stdout",
          "text": [
            "noo\n"
          ]
        }
      ]
    },
    {
      "cell_type": "markdown",
      "source": [
        "# string indexing\n",
        "* you can access individual characters in a string using their index.Python uses zero-based indexing,meaning the first character has an index of 0.\n",
        "* Index :position of the character."
      ],
      "metadata": {
        "id": "DKXbjCI88_Wm"
      }
    },
    {
      "cell_type": "code",
      "source": [],
      "metadata": {
        "id": "61Mh0LYR_-ge"
      },
      "execution_count": null,
      "outputs": []
    },
    {
      "cell_type": "code",
      "source": [
        "# string indexing\n",
        "my_name = \"poonam\"\n",
        "print(my_name[0])"
      ],
      "metadata": {
        "colab": {
          "base_uri": "https://localhost:8080/"
        },
        "id": "o3Wujie39apk",
        "outputId": "b50b679e-441b-4788-fcd6-8a08861fb68c"
      },
      "execution_count": null,
      "outputs": [
        {
          "output_type": "stream",
          "name": "stdout",
          "text": [
            "p\n"
          ]
        }
      ]
    },
    {
      "cell_type": "markdown",
      "source": [
        "# String Slicing\n",
        "* slicing in python is a feature that enables accessing parts of  sequence.\n",
        "string slicing allows you to get subset of characters from a string using a specified range of indices.\n",
        "* **syntax : bold text: string[start:end:step]**"
      ],
      "metadata": {
        "id": "2qTe_zNO_YmI"
      }
    },
    {
      "cell_type": "code",
      "source": [
        "name =\"poonam\"\n",
        "print(name[0:2])"
      ],
      "metadata": {
        "colab": {
          "base_uri": "https://localhost:8080/"
        },
        "id": "dFaYmkj0ACww",
        "outputId": "f0919c00-25b5-4af9-b538-7b473e6d6907"
      },
      "execution_count": null,
      "outputs": [
        {
          "output_type": "stream",
          "name": "stdout",
          "text": [
            "po\n"
          ]
        }
      ]
    },
    {
      "cell_type": "code",
      "source": [
        "# Sring methods\n",
        "#len()  : return the legth of a string\n",
        "#upper() : coverts string into upper case\n",
        "#lower() : coverts string into lower case\n",
        "#strip() : Removes any leading and trailing whitespace\n",
        "#count() : Returns the number of times a specified value occurs in a string\n",
        "#find()  : Searches the string for a specified value and returns the\n",
        "           # position of where it was found\n",
        "#title()   : coverts the first character of each word to upper case\n",
        "#split()   : splits the string at the specified separator,and returns a list\n",
        "#replace(old,new) : replaces all occurrences of a substring with\n",
        "                    # a new substring.\n"
      ],
      "metadata": {
        "id": "neAT-BWk_82-"
      },
      "execution_count": null,
      "outputs": []
    },
    {
      "cell_type": "code",
      "source": [
        "word = \"hello poonam\"\n",
        "print(len(word))\n",
        "print(word.upper())\n",
        "print(word.lower())\n",
        "print(word.count('a'))\n",
        "print(word.find(\"m\"))\n",
        "print(word.split('...'))\n",
        "print(word.replace('poonam','khot'))\n",
        "print(word.title()) # each first letter will be capital"
      ],
      "metadata": {
        "colab": {
          "base_uri": "https://localhost:8080/"
        },
        "id": "p2aHHr6YIsl2",
        "outputId": "75a2fb2f-d8ab-4b67-bbd6-e82ac0bdb30e"
      },
      "execution_count": null,
      "outputs": [
        {
          "output_type": "stream",
          "name": "stdout",
          "text": [
            "12\n",
            "HELLO POONAM\n",
            "hello poonam\n",
            "1\n",
            "11\n",
            "['hello poonam']\n",
            "hello khot\n",
            "Hello Poonam\n"
          ]
        }
      ]
    },
    {
      "cell_type": "code",
      "source": [
        "#strip\n",
        "word2 = \"    hello world    \"\n",
        "print(len(word2))\n",
        "print(word2.strip())\n"
      ],
      "metadata": {
        "colab": {
          "base_uri": "https://localhost:8080/"
        },
        "id": "bykYrIHqKKe8",
        "outputId": "f0dd8fd5-b379-4a0d-b590-13f0228fffb7"
      },
      "execution_count": null,
      "outputs": [
        {
          "output_type": "stream",
          "name": "stdout",
          "text": [
            "19\n",
            "hello world\n"
          ]
        }
      ]
    },
    {
      "cell_type": "code",
      "source": [
        "#join()\n",
        "zwords =(\"madhav\",\"is\",\"great\")\n",
        "print(\"-\".join(zwords))"
      ],
      "metadata": {
        "colab": {
          "base_uri": "https://localhost:8080/"
        },
        "id": "F8ADyMldKfc8",
        "outputId": "5a95523d-b618-4035-faea-0c4db47210d2"
      },
      "execution_count": null,
      "outputs": [
        {
          "output_type": "stream",
          "name": "stdout",
          "text": [
            "madhav-is-great\n"
          ]
        }
      ]
    },
    {
      "cell_type": "markdown",
      "source": [
        "# Assignment"
      ],
      "metadata": {
        "id": "xn2PaJaELFLR"
      }
    },
    {
      "cell_type": "code",
      "source": [
        "#1.limit the decimal places to 2 digits using round method and print result,\n",
        "# for the variable pi = 3.1415965359\n",
        "pi = 3.1415965359\n",
        "print(round(pi,2))\n"
      ],
      "metadata": {
        "colab": {
          "base_uri": "https://localhost:8080/"
        },
        "id": "4m-t_JPXI3gT",
        "outputId": "17ca8553-c83b-45ce-b293-3c42676184c8"
      },
      "execution_count": null,
      "outputs": [
        {
          "output_type": "stream",
          "name": "stdout",
          "text": [
            "3.14\n"
          ]
        }
      ]
    },
    {
      "cell_type": "code",
      "source": [
        "#2.Extract characters from index 2 to 8 with a step of 2: given\n",
        "# my_string = \"Python Course\", slice characters from index 2 to 8 ,\n",
        "# skipping every other char.\n",
        "my_string = \"python Course\"\n",
        "print(my_string[2:8:2])"
      ],
      "metadata": {
        "colab": {
          "base_uri": "https://localhost:8080/"
        },
        "id": "X6eEodjMMbQV",
        "outputId": "f68ace63-4cef-4869-a04b-5a714a701b3c"
      },
      "execution_count": null,
      "outputs": [
        {
          "output_type": "stream",
          "name": "stdout",
          "text": [
            "to \n"
          ]
        }
      ]
    },
    {
      "cell_type": "code",
      "source": [
        "#3. slice to get only the middle character(s): for my_string =\" madhava\" ,\n",
        "# use slicing to extract the middle character(s)\n",
        "my_string =\"madhava\"\n",
        "def mid_str(word):\n",
        "  middle = int(len(word)/2)\n",
        "  if len(word) % 2 == 0:\n",
        "    return word[middle-1:middle+1]\n",
        "  else:\n",
        "    return word[middle]\n",
        "print(mid_str(my_string))"
      ],
      "metadata": {
        "colab": {
          "base_uri": "https://localhost:8080/"
        },
        "id": "xRdYzETgZf4S",
        "outputId": "8d07f17d-d8a7-46f9-c9dc-c6dcb596a072"
      },
      "execution_count": null,
      "outputs": [
        {
          "output_type": "stream",
          "name": "stdout",
          "text": [
            "h\n"
          ]
        }
      ]
    },
    {
      "cell_type": "code",
      "source": [
        "#4.remove the first 3 and last 3 characters:given\n",
        "# my_string = \"Regression Analysis\",remove first 3 and last 3 characters.\n",
        "my_string = \"Regression Analysis\"\n",
        "print(my_string[3:-3])"
      ],
      "metadata": {
        "colab": {
          "base_uri": "https://localhost:8080/"
        },
        "id": "NYk4ockwbPpl",
        "outputId": "24a5a2f5-c9d7-476b-fd6b-37c1cdc7982a"
      },
      "execution_count": null,
      "outputs": [
        {
          "output_type": "stream",
          "name": "stdout",
          "text": [
            "ression Analy\n"
          ]
        }
      ]
    },
    {
      "cell_type": "code",
      "source": [
        "#5.Get the substring that starts 4 characters from the end to the last character:\n",
        "# for my_string = \"Classification\",slice the string starting from the 4th character\n",
        "# from the end to the last character.\n",
        "my_string = \"Classification\"\n",
        "print(my_string[-4:])"
      ],
      "metadata": {
        "colab": {
          "base_uri": "https://localhost:8080/"
        },
        "id": "T1163LL9bvwF",
        "outputId": "1d3efcec-883f-41c6-9449-8cedc8e5b282"
      },
      "execution_count": null,
      "outputs": [
        {
          "output_type": "stream",
          "name": "stdout",
          "text": [
            "tion\n"
          ]
        }
      ]
    },
    {
      "cell_type": "code",
      "source": [
        "#6.How to reverse a string using python string method?\n",
        "word = \"python\"\n",
        "print(word[::-1])"
      ],
      "metadata": {
        "colab": {
          "base_uri": "https://localhost:8080/"
        },
        "id": "ecnclW98cYXH",
        "outputId": "9be0f0a3-a687-41ef-b97c-47e22989367a"
      },
      "execution_count": null,
      "outputs": [
        {
          "output_type": "stream",
          "name": "stdout",
          "text": [
            "nohtyp\n"
          ]
        }
      ]
    },
    {
      "cell_type": "code",
      "source": [
        "#7.write a python function to check if a string is a palindrome using string methods.\n",
        "word = \"madam\"\n",
        "def is_palindrome(s):\n",
        "  if s == s[::-1]:\n",
        "    print(f\"{s} is a palindrome.\")\n",
        "  else:\n",
        "    print(f\"{s} is not a palindrome.\")\n",
        "is_palindrome(word)\n"
      ],
      "metadata": {
        "colab": {
          "base_uri": "https://localhost:8080/"
        },
        "id": "zBgtEY7RcuGE",
        "outputId": "b0e1d7d9-886e-4249-b710-ad481a0cb907"
      },
      "execution_count": null,
      "outputs": [
        {
          "output_type": "stream",
          "name": "stdout",
          "text": [
            "madam is a palindrome.\n"
          ]
        }
      ]
    },
    {
      "cell_type": "markdown",
      "source": [
        "# Loops in Python\n",
        "Loops enable you to perform repetitive tasks efficiently without  writiting redundant code. they iterate over a sequence (like a list,tuple,string or range) or execute a block of code as long as a specific condition is met.\n",
        "\n",
        "* Types of loops in python\n",
        "1. while loop\n",
        "2. for loop\n",
        "3. Nested loop"
      ],
      "metadata": {
        "id": "TEoPvN-ndmJ-"
      }
    },
    {
      "cell_type": "markdown",
      "source": [
        "# While loop\n",
        "* the while loop repeatedly executes a block of code as long asa given condition remains True. It checks the condition before each iteration.\n"
      ],
      "metadata": {
        "id": "wz8bPNCA8dRD"
      }
    },
    {
      "cell_type": "code",
      "source": [
        "#example:print numbers from 0 to 3\n",
        "count = 0\n",
        "while count < 4:\n",
        "  print(count)\n",
        "  count +=1"
      ],
      "metadata": {
        "id": "pl5n9B14eJNq",
        "colab": {
          "base_uri": "https://localhost:8080/"
        },
        "outputId": "9b0c4458-c2f2-448d-f68d-ebda12b05f06"
      },
      "execution_count": null,
      "outputs": [
        {
          "output_type": "stream",
          "name": "stdout",
          "text": [
            "0\n",
            "1\n",
            "2\n",
            "3\n"
          ]
        }
      ]
    },
    {
      "cell_type": "markdown",
      "source": [
        "# for loop\n",
        "the for loop in python is used to iterate over a sequence (such as list,tuple,dictionary,set or string) and execute a block of code for each element  in that sequence"
      ],
      "metadata": {
        "id": "lzJHp0FPEZ6v"
      }
    },
    {
      "cell_type": "code",
      "source": [
        "#Example :iterate over each character in language.\n",
        "language = 'python'\n",
        "for i in language:\n",
        "  print(i)"
      ],
      "metadata": {
        "colab": {
          "base_uri": "https://localhost:8080/"
        },
        "id": "GcVENRCHEtYe",
        "outputId": "4d7c0fef-d79a-493b-c40d-9fdfb3290920"
      },
      "execution_count": null,
      "outputs": [
        {
          "output_type": "stream",
          "name": "stdout",
          "text": [
            "p\n",
            "y\n",
            "t\n",
            "h\n",
            "o\n",
            "n\n"
          ]
        }
      ]
    },
    {
      "cell_type": "code",
      "source": [
        "for i in range(5):    # stop argument\n",
        "  print(i)"
      ],
      "metadata": {
        "colab": {
          "base_uri": "https://localhost:8080/"
        },
        "id": "ohi3MsBmFAOq",
        "outputId": "2a97f7fd-0e64-46df-9991-4177027c0283"
      },
      "execution_count": null,
      "outputs": [
        {
          "output_type": "stream",
          "name": "stdout",
          "text": [
            "0\n",
            "1\n",
            "2\n",
            "3\n",
            "4\n"
          ]
        }
      ]
    },
    {
      "cell_type": "code",
      "source": [
        "for i in range(5,11):   # start ,stop argument\n",
        "  print(i)"
      ],
      "metadata": {
        "colab": {
          "base_uri": "https://localhost:8080/"
        },
        "id": "AFeycC6YFd1x",
        "outputId": "cb3f0bb7-4ece-4824-9f90-6e6da3187301"
      },
      "execution_count": null,
      "outputs": [
        {
          "output_type": "stream",
          "name": "stdout",
          "text": [
            "5\n",
            "6\n",
            "7\n",
            "8\n",
            "9\n",
            "10\n"
          ]
        }
      ]
    },
    {
      "cell_type": "code",
      "source": [
        "for i in range(1,10,3):   # start,stop,step argument\n",
        "  print(i)"
      ],
      "metadata": {
        "colab": {
          "base_uri": "https://localhost:8080/"
        },
        "id": "F4tcEcMzF5ns",
        "outputId": "2f2aa3b1-1876-4af0-f386-b2bc05962217"
      },
      "execution_count": null,
      "outputs": [
        {
          "output_type": "stream",
          "name": "stdout",
          "text": [
            "1\n",
            "4\n",
            "7\n"
          ]
        }
      ]
    },
    {
      "cell_type": "code",
      "source": [
        "for i in range(5):\n",
        "  print(i)\n",
        "else:\n",
        "  print(\"for loop ended.\")"
      ],
      "metadata": {
        "colab": {
          "base_uri": "https://localhost:8080/"
        },
        "id": "Xka9FbGuGFCK",
        "outputId": "e7f73a5f-75f6-4c35-c417-3d0a2f1bb2eb"
      },
      "execution_count": null,
      "outputs": [
        {
          "output_type": "stream",
          "name": "stdout",
          "text": [
            "0\n",
            "1\n",
            "2\n",
            "3\n",
            "4\n",
            "for loop ended.\n"
          ]
        }
      ]
    },
    {
      "cell_type": "markdown",
      "source": [
        "# Loop control statement\n",
        "loop control statements allow you to alter thr normal flow of a loop.\n",
        "python supports 3clauses within loops:\n",
        "* pass statement\n",
        "* break statement\n",
        "* continue statement"
      ],
      "metadata": {
        "id": "A4PzIUv7GYj2"
      }
    },
    {
      "cell_type": "markdown",
      "source": [
        "# Loop Control - pass Statement\n",
        "* **pass Statement:** the pass statement is used as placeholder(it does nothing) for the future code,and runs entire code without causing any syntax error."
      ],
      "metadata": {
        "id": "zLPptsfjGzL1"
      }
    },
    {
      "cell_type": "code",
      "source": [
        "count = 5\n",
        "while count > 0:\n",
        "  if count == 3:\n",
        "    pass\n",
        "  else:\n",
        "    print(count)\n",
        "  count -=1"
      ],
      "metadata": {
        "colab": {
          "base_uri": "https://localhost:8080/"
        },
        "id": "-7Vc8raMHJ1l",
        "outputId": "b9ee5fbd-ea19-44cf-960b-3feb6513002f"
      },
      "execution_count": null,
      "outputs": [
        {
          "output_type": "stream",
          "name": "stdout",
          "text": [
            "5\n",
            "4\n",
            "2\n",
            "1\n"
          ]
        }
      ]
    },
    {
      "cell_type": "markdown",
      "source": [
        "# loop Control - break Statement\n",
        "**break statement** - The break statement terminates the loop entirely,existing from it immediately."
      ],
      "metadata": {
        "id": "WDqejKVBH8zT"
      }
    },
    {
      "cell_type": "code",
      "source": [
        "for i in range(5):\n",
        "  if i == 3:\n",
        "    break\n",
        "  print(i)"
      ],
      "metadata": {
        "colab": {
          "base_uri": "https://localhost:8080/"
        },
        "id": "kbhpjw3oIMgK",
        "outputId": "0137cf23-63de-4031-ecb0-3d5ad4b8cc54"
      },
      "execution_count": null,
      "outputs": [
        {
          "output_type": "stream",
          "name": "stdout",
          "text": [
            "0\n",
            "1\n",
            "2\n"
          ]
        }
      ]
    },
    {
      "cell_type": "markdown",
      "source": [
        "# Loop Control - continue Statement\n",
        "**continue Statement** = The continue statement skips the current iteration and moves to the next one."
      ],
      "metadata": {
        "id": "NzoqXN2kIjmt"
      }
    },
    {
      "cell_type": "code",
      "source": [
        "for i in range(8):\n",
        "  if i == 3:\n",
        "    continue\n",
        "  print(i)"
      ],
      "metadata": {
        "colab": {
          "base_uri": "https://localhost:8080/"
        },
        "id": "mxWVrv07IzRo",
        "outputId": "e4293bd3-6143-4895-978e-be31e3391251"
      },
      "execution_count": null,
      "outputs": [
        {
          "output_type": "stream",
          "name": "stdout",
          "text": [
            "0\n",
            "1\n",
            "2\n",
            "4\n",
            "5\n",
            "6\n",
            "7\n"
          ]
        }
      ]
    },
    {
      "cell_type": "markdown",
      "source": [
        "# Nested loop\n",
        "* loop inside another loop is nested loop. This means that for every single time the outer loop runs, the inner loop runs all of its iterations."
      ],
      "metadata": {
        "id": "lCH0w3szKCuf"
      }
    },
    {
      "cell_type": "code",
      "source": [
        "for i in range(3):\n",
        "  for num in range(1,4):\n",
        "      print(num)\n",
        "  print('----')"
      ],
      "metadata": {
        "colab": {
          "base_uri": "https://localhost:8080/"
        },
        "id": "miJGD_9cKTlv",
        "outputId": "e8f66b0a-d7e2-48be-f2c0-e858e4ec86d5"
      },
      "execution_count": null,
      "outputs": [
        {
          "output_type": "stream",
          "name": "stdout",
          "text": [
            "1\n",
            "2\n",
            "3\n",
            "----\n",
            "1\n",
            "2\n",
            "3\n",
            "----\n",
            "1\n",
            "2\n",
            "3\n",
            "----\n"
          ]
        }
      ]
    },
    {
      "cell_type": "code",
      "source": [
        "# print prime numbers between range of 2 to 10 using nested loop:\n",
        "for num in range(2,10):\n",
        "  for i in range(2,num):\n",
        "    if num % i == 0:\n",
        "      break\n",
        "  else:\n",
        "    print(num)"
      ],
      "metadata": {
        "colab": {
          "base_uri": "https://localhost:8080/"
        },
        "id": "zYOhA773K_sU",
        "outputId": "aeb9d7fd-1f52-4129-9070-79432ba5b0c9"
      },
      "execution_count": null,
      "outputs": [
        {
          "output_type": "stream",
          "name": "stdout",
          "text": [
            "2\n",
            "3\n",
            "5\n",
            "7\n"
          ]
        }
      ]
    },
    {
      "cell_type": "code",
      "source": [
        "# 21/ 7/2025\n",
        "# TIME : 8:25 hrs"
      ],
      "metadata": {
        "id": "dB6StR2WvZrU"
      },
      "execution_count": null,
      "outputs": []
    },
    {
      "cell_type": "code",
      "source": [
        "# Assignement - 5\n",
        "# 1.print the whileloop output in the same line\n",
        "print(\"Hello\", \"madhav1\" , end = \" \")\n",
        "print(\"hello\",\"madhav1\",sep = \" * \")\n",
        "\n",
        "# or by using while loop\n",
        "i = 1\n",
        "while i < 4:\n",
        "  print(f\"hello madhav {i}\",end = \" \")\n",
        "  i += 1\n",
        "\n"
      ],
      "metadata": {
        "colab": {
          "base_uri": "https://localhost:8080/"
        },
        "id": "ensZ4B113Pw7",
        "outputId": "2653d6a3-7941-490c-9a56-de9e07483bfc"
      },
      "execution_count": 12,
      "outputs": [
        {
          "output_type": "stream",
          "name": "stdout",
          "text": [
            "Hello madhav1 hello * madhav1\n",
            "hello madhav 1 hello madhav 2 hello madhav 3 "
          ]
        }
      ]
    },
    {
      "cell_type": "code",
      "source": [
        "# print star pattern using loops.\n",
        "n= 5 # number of rows.\n",
        "for i in range(1,n+1):\n",
        "  for j in range(1,i+1):\n",
        "    print(\"*\",end = \" \")\n",
        "  print()\n"
      ],
      "metadata": {
        "colab": {
          "base_uri": "https://localhost:8080/"
        },
        "id": "aaDS4yUA7nDC",
        "outputId": "ee137d8b-5c03-44e4-eeca-cd11a90b00be"
      },
      "execution_count": 13,
      "outputs": [
        {
          "output_type": "stream",
          "name": "stdout",
          "text": [
            "* \n",
            "* * \n",
            "* * * \n",
            "* * * * \n",
            "* * * * * \n"
          ]
        }
      ]
    },
    {
      "cell_type": "code",
      "source": [
        "for i in range(1,n+1):\n",
        "  print(\" * \" * i)"
      ],
      "metadata": {
        "colab": {
          "base_uri": "https://localhost:8080/"
        },
        "id": "hYm78lul9xhO",
        "outputId": "880d166d-002b-46eb-d98d-e152c81417d5"
      },
      "execution_count": 15,
      "outputs": [
        {
          "output_type": "stream",
          "name": "stdout",
          "text": [
            " * \n",
            " *  * \n",
            " *  *  * \n",
            " *  *  *  * \n",
            " *  *  *  *  * \n"
          ]
        }
      ]
    },
    {
      "cell_type": "code",
      "source": [
        "# print star pattern in inverted way\n",
        "for i in range(n ,0,-1):    #-1 is for inverted printing\n",
        "  for j in range(1,i+1):\n",
        "    print(\"*\",end = \" \")\n",
        "  print()"
      ],
      "metadata": {
        "colab": {
          "base_uri": "https://localhost:8080/"
        },
        "id": "1zGJ2Vy9-D9r",
        "outputId": "10133418-4a40-4a6a-913f-b0b11e80b049"
      },
      "execution_count": 17,
      "outputs": [
        {
          "output_type": "stream",
          "name": "stdout",
          "text": [
            "* * * * * \n",
            "* * * * \n",
            "* * * \n",
            "* * \n",
            "* \n"
          ]
        }
      ]
    },
    {
      "cell_type": "code",
      "source": [
        "n = 5\n",
        "for i in range(n,0,-1):\n",
        "  print(\" *\" * i)"
      ],
      "metadata": {
        "colab": {
          "base_uri": "https://localhost:8080/"
        },
        "id": "N0k4UgWt-tGA",
        "outputId": "c9fefe33-2cb5-4f5f-c629-14eec2f9f15a"
      },
      "execution_count": 20,
      "outputs": [
        {
          "output_type": "stream",
          "name": "stdout",
          "text": [
            " * * * * *\n",
            " * * * *\n",
            " * * *\n",
            " * *\n",
            " *\n"
          ]
        }
      ]
    },
    {
      "cell_type": "code",
      "source": [
        "# pyramid pattern\n",
        "n = 5\n",
        "for i in range(1,n+1): #loop for number of rows.\n",
        "  print(\" \" * (n-i),end = \" \") # for pyramid shape or spaces to center the star\n",
        "  print(\"*\"* (2 * i -1)) #for odd number 2n-1 ,here uses 2i-1"
      ],
      "metadata": {
        "colab": {
          "base_uri": "https://localhost:8080/"
        },
        "id": "7mcyW3zy_aYq",
        "outputId": "aef7b82e-99ca-4f4e-ee61-c88df3089d52"
      },
      "execution_count": 22,
      "outputs": [
        {
          "output_type": "stream",
          "name": "stdout",
          "text": [
            "     *\n",
            "    ***\n",
            "   *****\n",
            "  *******\n",
            " *********\n"
          ]
        }
      ]
    },
    {
      "cell_type": "code",
      "source": [
        "#3.write a program to find the factorial of the given number.\n",
        "num = int(input(\"Enter a number: \"))\n",
        "fact = 1\n",
        "\n",
        "for i in range(1, num + 1):\n",
        "    fact *= i\n",
        "\n",
        "print(\"Factorial:\", fact)\n"
      ],
      "metadata": {
        "colab": {
          "base_uri": "https://localhost:8080/"
        },
        "id": "zLTOsyeKA7lA",
        "outputId": "5ecdf8c6-68b6-440c-d4d7-a8f7002908ac"
      },
      "execution_count": 27,
      "outputs": [
        {
          "output_type": "stream",
          "name": "stdout",
          "text": [
            "Enter a number: 4\n",
            "Factorial: 24\n"
          ]
        }
      ]
    },
    {
      "cell_type": "code",
      "source": [
        "# 4.count the number of vowels in a string.\n",
        "text = input(\"Enter a string: \")\n",
        "vowels = \"aeiouAEIOU\"\n",
        "count = 0\n",
        "\n",
        "for char in text:\n",
        "    if char in vowels:\n",
        "        count += 1\n",
        "\n",
        "print(\"Number of vowels:\", count)\n"
      ],
      "metadata": {
        "colab": {
          "base_uri": "https://localhost:8080/"
        },
        "id": "jUUxm9E_D68h",
        "outputId": "ad00e41b-9d89-4876-c601-3f5acf5d9035"
      },
      "execution_count": 25,
      "outputs": [
        {
          "output_type": "stream",
          "name": "stdout",
          "text": [
            "Enter a string: poonam\n",
            "Number of vowels: 3\n"
          ]
        }
      ]
    },
    {
      "cell_type": "code",
      "source": [
        "# find the longest word in a sentence using a for loop.\n",
        "sentence = \"Python by Rishabh Mistra \"\n",
        "words = sentence.split()\n",
        "longest_word = \"\"\n",
        "\n",
        "for word in words:\n",
        "  if len(word) > len(longest_word):\n",
        "    longest_word = word\n",
        "print(\"The longest word is:\",longest_word)\n"
      ],
      "metadata": {
        "colab": {
          "base_uri": "https://localhost:8080/"
        },
        "id": "q7Vwd0z1FmgP",
        "outputId": "90a23032-3240-4675-bb8f-11acdf712412"
      },
      "execution_count": 26,
      "outputs": [
        {
          "output_type": "stream",
          "name": "stdout",
          "text": [
            "The longest word is: Rishabh\n"
          ]
        }
      ]
    },
    {
      "cell_type": "code",
      "source": [
        "# do while loop is same as while"
      ],
      "metadata": {
        "id": "ELnPIyrLJdcx"
      },
      "execution_count": null,
      "outputs": []
    },
    {
      "cell_type": "code",
      "source": [
        "# write a program to print first N numbers in the Fibonacci sequence using a while loop.\n",
        "# fibonacci sequence : Each number is equal to tyhe sum of the precending two numbers.Eg:0112358\n",
        "def fibonacci(n):\n",
        "  a,b = 0,1\n",
        "  count = 0\n",
        "  while count < n:\n",
        "    print(a)\n",
        "    a,b = b,a+b\n",
        "    count +=1\n",
        "fibonacci(5)"
      ],
      "metadata": {
        "colab": {
          "base_uri": "https://localhost:8080/"
        },
        "id": "ST8q6oxFLaT_",
        "outputId": "83cd3c94-60ea-4deb-9a3a-4f18de988a1f"
      },
      "execution_count": 29,
      "outputs": [
        {
          "output_type": "stream",
          "name": "stdout",
          "text": [
            "0\n",
            "1\n",
            "1\n",
            "2\n",
            "3\n"
          ]
        }
      ]
    }
  ]
}