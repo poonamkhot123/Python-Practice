{
  "nbformat": 4,
  "nbformat_minor": 0,
  "metadata": {
    "colab": {
      "provenance": [],
      "authorship_tag": "ABX9TyM4llhE3PTBmnlkKy27dJBl",
      "include_colab_link": true
    },
    "kernelspec": {
      "name": "python3",
      "display_name": "Python 3"
    },
    "language_info": {
      "name": "python"
    }
  },
  "cells": [
    {
      "cell_type": "markdown",
      "metadata": {
        "id": "view-in-github",
        "colab_type": "text"
      },
      "source": [
        "<a href=\"https://colab.research.google.com/github/poonamkhot123/Python-Practice/blob/main/Python_rivison.ipynb\" target=\"_parent\"><img src=\"https://colab.research.google.com/assets/colab-badge.svg\" alt=\"Open In Colab\"/></a>"
      ]
    },
    {
      "cell_type": "code",
      "execution_count": null,
      "metadata": {
        "id": "ctWHJb-TzcxT"
      },
      "outputs": [],
      "source": [
        "# This practice is by using youtube chanel \" Python Tutorial for beginners iin hindi\"\n",
        "# Total 9:11hrs vidieo\n",
        "# starts from 1:45 hrs\n"
      ]
    },
    {
      "cell_type": "markdown",
      "source": [
        "# Casting in python\n"
      ],
      "metadata": {
        "id": "6LaYQ21B0SRu"
      }
    },
    {
      "cell_type": "code",
      "source": [
        "a = 1\n",
        "print(type(a))\n",
        "b = '1'\n",
        "print(type(b))\n",
        "\n",
        "c = int(b)\n",
        "print(type(c))\n",
        "print(a+c)"
      ],
      "metadata": {
        "colab": {
          "base_uri": "https://localhost:8080/"
        },
        "id": "A8ChHczD0Up6",
        "outputId": "4fcc2f86-58b7-4eb6-f879-7ada1ecef3f4"
      },
      "execution_count": null,
      "outputs": [
        {
          "output_type": "stream",
          "name": "stdout",
          "text": [
            "<class 'int'>\n",
            "<class 'str'>\n",
            "<class 'int'>\n",
            "2\n"
          ]
        }
      ]
    },
    {
      "cell_type": "markdown",
      "source": [
        " **IMPLICIT TYPE CASTING**\n",
        "also known as coercion ,is performed automatically by the Python interpreter.This usually occurs when performing operations between different data types,and python implicitly converts one data to another to avoid data loss or errors.\n",
        "\n"
      ],
      "metadata": {
        "id": "GFkQNGOB9BxT"
      }
    },
    {
      "cell_type": "code",
      "source": [
        "# implicit type casting from integer to float\n",
        "num1=10\n",
        "num2=5.5\n",
        "result=num1+num2\n",
        "print(result)\n",
        "print(type(result))\n",
        "# one num is int another is float finally it convert into float it is implicit type casting."
      ],
      "metadata": {
        "colab": {
          "base_uri": "https://localhost:8080/"
        },
        "id": "F75ySYfV9Yey",
        "outputId": "333201cb-036c-4a8a-f362-3376d2d9fd9b"
      },
      "execution_count": null,
      "outputs": [
        {
          "output_type": "stream",
          "name": "stdout",
          "text": [
            "15.5\n",
            "<class 'float'>\n"
          ]
        }
      ]
    },
    {
      "cell_type": "markdown",
      "source": [
        "**Explicit type casting** Also known as type conversion , is performed manually by the programmer using built-in functions.\n",
        "this is done to ensure the desired type conversion and to avoid unexpected behavior."
      ],
      "metadata": {
        "id": "qIcAkCQX-Ebo"
      }
    },
    {
      "cell_type": "code",
      "source": [
        "# Coverting String to Integer\n",
        "str_num = \"26\"\n",
        "int_num =int(str_num)\n",
        "print(int_num)\n",
        "print(type(int_num))\n",
        "\n",
        "# Converting a value to boolean\n",
        "print(bool(0))\n",
        "print(bool(1))"
      ],
      "metadata": {
        "colab": {
          "base_uri": "https://localhost:8080/"
        },
        "id": "10CU13HV-caT",
        "outputId": "de34444d-0fcd-4c53-ffd1-b59560f821e9"
      },
      "execution_count": null,
      "outputs": [
        {
          "output_type": "stream",
          "name": "stdout",
          "text": [
            "26\n",
            "<class 'int'>\n",
            "False\n",
            "True\n"
          ]
        }
      ]
    },
    {
      "cell_type": "markdown",
      "source": [
        "# **Input Function**\n",
        "\n",
        "\n",
        "The input function is an essential feature in python that allows to take input from the user."
      ],
      "metadata": {
        "id": "aP4qwNrg_UDD"
      }
    },
    {
      "cell_type": "code",
      "source": [
        "name = input(\"Enter your name:\")\n",
        "print(f\"welcome {name} to the python tutorial series\")"
      ],
      "metadata": {
        "colab": {
          "base_uri": "https://localhost:8080/"
        },
        "id": "TNNzHAoX_oW7",
        "outputId": "9bb802c8-6729-4e8a-8aff-d725d0f9b2f3"
      },
      "execution_count": null,
      "outputs": [
        {
          "output_type": "stream",
          "name": "stdout",
          "text": [
            "Enter your name:poonam\n",
            "welcome poonam to the python tutorial series\n"
          ]
        }
      ]
    },
    {
      "cell_type": "code",
      "source": [],
      "metadata": {
        "id": "FUJDFQhwDJyq"
      },
      "execution_count": null,
      "outputs": []
    },
    {
      "cell_type": "code",
      "source": [
        "# input from user to add two number and print result.\n",
        "x = input(\"Enter first number:\")\n",
        "y = input(\"Enter second number:\")\n",
        "print(f\"Sum of{x} & {y}is {int(x)+int(y)}\")"
      ],
      "metadata": {
        "colab": {
          "base_uri": "https://localhost:8080/"
        },
        "id": "1kz_S9hXCwob",
        "outputId": "58780967-b804-44c5-b37c-91d8641da1fb"
      },
      "execution_count": null,
      "outputs": [
        {
          "output_type": "stream",
          "name": "stdout",
          "text": [
            "Enter first number:12\n",
            "Enter second number:12\n",
            "Sum of12 & 12is24\n"
          ]
        }
      ]
    },
    {
      "cell_type": "code",
      "source": [
        "# HW:write a program to input student name and marks of 3 subjects.\n",
        "# print name & percentage in output.\n",
        "\n",
        "name = input(\"Enter a name:\")\n",
        "marks1 = input(\"enter marks of first subject:\")\n",
        "marks2 = input(\"enter marks of second subject:\")\n",
        "marks3 = input(\"enter marks of third subject\")\n",
        "percentage = ((int(marks1)+int(marks2)+int(marks3))/300)*100\n",
        "print(f\"the result of {name} is {int(percentage)}%.well done.\")"
      ],
      "metadata": {
        "colab": {
          "base_uri": "https://localhost:8080/"
        },
        "id": "rnAZuVgdDsJW",
        "outputId": "8c911569-f83d-48bc-b400-ae1c01315fd3"
      },
      "execution_count": null,
      "outputs": [
        {
          "output_type": "stream",
          "name": "stdout",
          "text": [
            "Enter a name:poonam\n",
            "enter marks of first subject:56\n",
            "enter marks of second subject:67\n",
            "enter marks of third subject89\n",
            "the result of poonam is 70%.well done.\n"
          ]
        }
      ]
    },
    {
      "cell_type": "code",
      "source": [
        "# write a python program thats collects multiple types of\n",
        "# data(e.g.,name,age,height  and student status)\n",
        "# from user input,stores them in a dictonary,and then prints out the collected data?\n",
        "\n",
        "# intializing dictionary\n",
        "user_name ={}\n",
        "user_name['name'] = input(\"Enter your name:\")\n",
        "user_name['age'] = int(input(\"Enter your age:\"))\n",
        "user_name['height'] = float(input(\"Enter your height:\"))\n",
        "user_name['student'] = input(\"are you a student:\")\n",
        "print(user_name) #completed till 2:41hrs\n"
      ],
      "metadata": {
        "id": "boHdJomiHx_I"
      },
      "execution_count": null,
      "outputs": []
    },
    {
      "cell_type": "markdown",
      "source": [
        "started from = 2:41hrs\n",
        "date = 16 july 2025\n"
      ],
      "metadata": {
        "id": "4QH4FubcpT92"
      }
    },
    {
      "cell_type": "code",
      "source": [
        "# operators in python are special symbols or keywords\n",
        "# operators : these are thespecials symbols\n",
        "# operand: it is the value on which the operator is applied.\n",
        "# addition operator  +\n",
        "# Equal operator ==\n",
        "# and operator  and\n",
        "# assign operator ="
      ],
      "metadata": {
        "id": "1hqwPonMK7i_"
      },
      "execution_count": null,
      "outputs": []
    },
    {
      "cell_type": "markdown",
      "source": [
        "# **Types of operator**\n",
        "\n",
        "* 1.Arthmetic operators\n",
        "* 2.Comparison (relational) operators\n",
        "* 3.assignment operator\n",
        "* 4.logical operators\n",
        "* 5.bitwise operators\n",
        "* 6.identity operators\n",
        "* 7.membership operators\n",
        "\n"
      ],
      "metadata": {
        "id": "zDp6f7X9wnnV"
      }
    },
    {
      "cell_type": "markdown",
      "source": [
        "# *Arithmetic operators*\n",
        "* (+)addition               a+b        #o/p:8\n",
        "* (-) substraction          a-b        #o/p:2\n",
        "* (*) multiplication        a*b        # o/p:15\n",
        "* (/)Division               a/b        #o/p:1.6666\n",
        "* (% )modulus(returns remainder) a%b    #o/p:2\n",
        "* (//) floor division       a//b       #o/p:1\n",
        "* (**) Exponentiation                  #o/p:125\n",
        "\n",
        "* **Precedence of Arithmetic operators in python:**\n",
        "p-parenthesis,E-exponential,M-multiplication,D-division,A-addition,S-substraction"
      ],
      "metadata": {
        "id": "pDNCY8eFx3zM"
      }
    },
    {
      "cell_type": "markdown",
      "source": [
        "## *Comparison (Realtional) Operators*\n",
        "* comparison operators are used to compare two values and return a boolean result(True or False)\n",
        "\n",
        "* (==) equal\n",
        "* (!=) not equal\n",
        "* (>) greater than\n",
        "* (<) less than\n",
        "* (>=) greater than or equal to\n",
        "* (<=) less than or equal to\n",
        "\n",
        "\n"
      ],
      "metadata": {
        "id": "NHWgGu4r0vhc"
      }
    },
    {
      "cell_type": "markdown",
      "source": [
        "# *Logical operators*\n",
        " * **and** returns true if both statements are true\n",
        "* **or** returns true if one of the statement is true\n",
        "* **not** reverse the result,returns false if the result is true  "
      ],
      "metadata": {
        "id": "0GqDgVo-1pLx"
      }
    },
    {
      "cell_type": "markdown",
      "source": [
        "# *Identity & Membership Operators*\n",
        "identity operators are used to compare the memory locations of two objects,\n",
        "not just equal but if they are the same objects.\n",
        "Membership operators checks whether a given value is a member of a sequence\n",
        "(such as strings,lists, and tuples) or not\n",
        "\n",
        "\n",
        "*   **identity**.........    is......            (a is b)\n",
        "*   **identity**.........    is not.....        (a is not b)\n",
        "* **Membership**.........    in......            (a in b)\n",
        "* **Membership**.........    not in....        (a not in b)..........  till 3:14hrs\n"
      ],
      "metadata": {
        "id": "sJS-FZfi3boq"
      }
    },
    {
      "cell_type": "code",
      "source": [
        "# started date = 17/07/2025\n",
        "# time = 3:15 hrs"
      ],
      "metadata": {
        "id": "jue7b_Jf5MD6"
      },
      "execution_count": null,
      "outputs": []
    },
    {
      "cell_type": "markdown",
      "source": [
        "# **CONDITIONAL STATEMENTS**\n",
        "*conditional statements allows you to execute code based on condition evaluates to true or False.\n",
        "\n",
        "Types of conditonal statements\n",
        "* 1.'if' statement\n",
        "* 2.'if-else' statement\n",
        "* 3.'if-elif-else' statement\n",
        "* 4.Nested 'if else' statement\n",
        "* 5.Conditional Expressions (Ternary Operators)\n"
      ],
      "metadata": {
        "id": "gM1QpdHAMh1F"
      }
    },
    {
      "cell_type": "code",
      "source": [
        "# if conditional statement = execute a block of code only if the condition is true.\n",
        "age = 26\n",
        "if age > 19:\n",
        "  print(\"you are an adult\")\n"
      ],
      "metadata": {
        "colab": {
          "base_uri": "https://localhost:8080/"
        },
        "id": "h8heFC5qOFHF",
        "outputId": "eec1ebd8-b468-43fa-adda-782890ab1b46"
      },
      "execution_count": 4,
      "outputs": [
        {
          "output_type": "stream",
          "name": "stdout",
          "text": [
            "you are an adult\n"
          ]
        }
      ]
    },
    {
      "cell_type": "code",
      "source": [
        "a = 26\n",
        "b = 108\n",
        "if co"
      ],
      "metadata": {
        "id": "jSZ1_vXiNIXx"
      },
      "execution_count": null,
      "outputs": []
    }
  ]
}